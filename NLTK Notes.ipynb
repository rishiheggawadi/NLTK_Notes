{
 "cells": [
  {
   "cell_type": "code",
   "execution_count": 1,
   "id": "4fc814f0",
   "metadata": {
    "scrolled": true
   },
   "outputs": [
    {
     "name": "stdout",
     "output_type": "stream",
     "text": [
      "Requirement already satisfied: nltk in /Users/rishiheggawadi/opt/anaconda3/lib/python3.9/site-packages (3.7)\n",
      "Requirement already satisfied: tqdm in /Users/rishiheggawadi/opt/anaconda3/lib/python3.9/site-packages (from nltk) (4.64.0)\n",
      "Requirement already satisfied: joblib in /Users/rishiheggawadi/opt/anaconda3/lib/python3.9/site-packages (from nltk) (1.1.0)\n",
      "Requirement already satisfied: regex>=2021.8.3 in /Users/rishiheggawadi/opt/anaconda3/lib/python3.9/site-packages (from nltk) (2022.3.15)\n",
      "Requirement already satisfied: click in /Users/rishiheggawadi/opt/anaconda3/lib/python3.9/site-packages (from nltk) (8.0.4)\n",
      "Note: you may need to restart the kernel to use updated packages.\n"
     ]
    }
   ],
   "source": [
    "pip install nltk"
   ]
  },
  {
   "cell_type": "code",
   "execution_count": 1,
   "id": "45159c04",
   "metadata": {},
   "outputs": [
    {
     "name": "stderr",
     "output_type": "stream",
     "text": [
      "[nltk_data] Downloading package punkt to\n",
      "[nltk_data]     /Users/rishiheggawadi/nltk_data...\n",
      "[nltk_data]   Unzipping tokenizers/punkt.zip.\n"
     ]
    },
    {
     "data": {
      "text/plain": [
       "True"
      ]
     },
     "execution_count": 1,
     "metadata": {},
     "output_type": "execute_result"
    }
   ],
   "source": [
    "import nltk\n",
    "nltk.download(\"punkt\")"
   ]
  },
  {
   "cell_type": "code",
   "execution_count": 16,
   "id": "136848ae",
   "metadata": {},
   "outputs": [
    {
     "name": "stdout",
     "output_type": "stream",
     "text": [
      "['Some', 'say', 'the', 'world', 'will', 'end', 'in', 'fire', ',', 'Some', 'say', 'in', 'ice', '.', 'From', 'what', 'I', '’', 've', 'tasted', 'of', 'desire', ',', 'I', 'hold', 'with', 'those', 'who', 'favor', 'fire', '.', 'But', 'if', 'it', 'had', 'to', 'perish', 'twice', ',', 'I', 'think', 'I', 'know', 'enough', 'of', 'hate', ',', 'To', 'know', 'that', 'for', 'destruction', 'ice', 'Is', 'also', 'great', ',', 'And', 'would', 'suffice', '.']\n"
     ]
    }
   ],
   "source": [
    "text = \"\"\"Some say the world will end in fire, Some say in ice. From what I’ve tasted of desire, I hold with those who favor fire. But if it had to perish twice, I think I know enough of hate, To know that for destruction ice Is also great, And would suffice.\"\"\"\n",
    "from nltk.tokenize import word_tokenize\n",
    "tokenized_word = (word_tokenize(text))\n",
    "print(tokenized_word)"
   ]
  },
  {
   "cell_type": "code",
   "execution_count": 18,
   "id": "58e18aec",
   "metadata": {
    "scrolled": true
   },
   "outputs": [
    {
     "name": "stdout",
     "output_type": "stream",
     "text": [
      "['Some say the world will end in fire, Some say in ice.', 'From what I’ve tasted of desire, I hold with those who favor fire.', 'But if it had to perish twice,\\nI think I know enough of hate, To know that for destruction ice Is also great, And would suffice.']\n"
     ]
    }
   ],
   "source": [
    "from nltk.tokenize import sent_tokenize\n",
    "print(sent_tokenize(text))"
   ]
  },
  {
   "cell_type": "code",
   "execution_count": 19,
   "id": "29dd2759",
   "metadata": {},
   "outputs": [
    {
     "name": "stdout",
     "output_type": "stream",
     "text": [
      "[(',', 5), ('I', 4), ('.', 3)]\n"
     ]
    }
   ],
   "source": [
    "from nltk.probability import FreqDist\n",
    "fd = FreqDist(tokenized_word)\n",
    "print(fd.most_common(3))"
   ]
  },
  {
   "cell_type": "code",
   "execution_count": 20,
   "id": "16c3a330",
   "metadata": {
    "scrolled": true
   },
   "outputs": [
    {
     "data": {
      "image/png": "[encoded data removed]",
      "text/plain": [
       "<Figure size 432x288 with 1 Axes>"
      ]
     },
     "metadata": {
      "needs_background": "light"
     },
     "output_type": "display_data"
    }
   ],
   "source": [
    "import matplotlib.pyplot as plt\n",
    "fd.plot(30, cumulative=False)\n",
    "plt.show()"
   ]
  },
  {
   "cell_type": "code",
   "execution_count": 22,
   "id": "c1f33005",
   "metadata": {},
   "outputs": [
    {
     "name": "stdout",
     "output_type": "stream",
     "text": [
      "{'own', 'which', 'have', 'against', 'into', 'yourselves', 'mustn', 'aren', 'its', 'both', 'i', 'my', 'when', 'weren', 'that', 'am', 'does', 'hasn', 'while', 'there', 'didn', 'below', 'him', 'will', 'not', 'now', 'having', 'off', 'ma', \"wouldn't\", 'ain', 'once', 'wouldn', 'couldn', 'so', \"shan't\", 'as', 'more', 'up', 'can', 'doesn', 't', 'just', \"mustn't\", 'of', \"needn't\", 'each', 'any', 'all', 'what', 'down', 'the', 'me', 'but', 'by', 'very', 'at', 'being', 'had', 's', 'won', 'don', 'nor', 'this', 'shouldn', 'her', 'yourself', 'between', 'should', 'isn', 'again', 'if', 'you', 'haven', 'it', 'he', 'most', 'y', 'to', 'ours', 'on', 'we', 'are', 'll', 'hadn', 'their', \"won't\", 'no', \"that'll\", 'yours', 'after', 'further', 'theirs', 'because', 'some', \"wasn't\", 'same', 've', 'your', 'do', \"mightn't\", 'been', 'in', \"isn't\", 'through', \"you're\", 'here', 'few', \"you'll\", 'during', 'were', 'be', 'our', 'whom', 'needn', \"hasn't\", \"she's\", 'before', 'a', 'other', 're', 'only', 'm', 'was', 'wasn', 'is', 'itself', 'out', 'himself', 'for', 'these', 'his', 'why', \"couldn't\", 'who', 'them', 'has', \"haven't\", 'under', 'too', \"don't\", 'did', 'she', 'with', \"aren't\", \"didn't\", 'themselves', \"you've\", 'doing', 'herself', 'such', 'and', 'd', \"shouldn't\", 'shan', 'than', 'or', 'they', 'hers', \"it's\", \"should've\", 'over', 'from', 'o', 'an', 'about', 'how', \"you'd\", 'those', 'above', \"weren't\", 'ourselves', 'myself', 'mightn', \"hadn't\", 'where', \"doesn't\", 'until', 'then'}\n"
     ]
    },
    {
     "name": "stderr",
     "output_type": "stream",
     "text": [
      "[nltk_data] Downloading package stopwords to\n",
      "[nltk_data]     /Users/rishiheggawadi/nltk_data...\n",
      "[nltk_data]   Package stopwords is already up-to-date!\n"
     ]
    }
   ],
   "source": [
    "nltk.download('stopwords')\n",
    "\n",
    "from nltk.corpus import stopwords\n",
    "stop_words = set(stopwords.words('english'))\n",
    "print(stop_words)\n"
   ]
  },
  {
   "cell_type": "code",
   "execution_count": 23,
   "id": "324ca3b2",
   "metadata": {},
   "outputs": [
    {
     "name": "stdout",
     "output_type": "stream",
     "text": [
      "['Some', 'say', 'the', 'world', 'will', 'end', 'in', 'fire', ',', 'Some', 'say', 'in', 'ice', '.', 'From', 'what', 'I', '’', 've', 'tasted', 'of', 'desire', ',', 'I', 'hold', 'with', 'those', 'who', 'favor', 'fire', '.', 'But', 'if', 'it', 'had', 'to', 'perish', 'twice', ',', 'I', 'think', 'I', 'know', 'enough', 'of', 'hate', ',', 'To', 'know', 'that', 'for', 'destruction', 'ice', 'Is', 'also', 'great', ',', 'And', 'would', 'suffice', '.']\n"
     ]
    }
   ],
   "source": [
    "text_2 = \"\"\"Some say the world will end in fire, Some say in ice. From what I’ve tasted of desire, I hold with those who favor fire. But if it had to perish twice, I think I know enough of hate, To know that for destruction ice Is also great, And would suffice.\"\"\"\n",
    "demo_words = []\n",
    "\n",
    "text_2_tokenized = word_tokenize(text_2)\n",
    "print(text_2_tokenized)"
   ]
  },
  {
   "cell_type": "code",
   "execution_count": 27,
   "id": "2656668e",
   "metadata": {},
   "outputs": [
    {
     "name": "stdout",
     "output_type": "stream",
     "text": [
      "{'for', 'the', 'that', 've', 'those', 'with', 'if', 'of', 'in', 'it', 'who', 'will', 'to', 'what', 'had'}\n"
     ]
    }
   ],
   "source": [
    "tk_without_stop_words = []\n",
    "for word in text_2_tokenized:\n",
    "    if word not in stop_words:\n",
    "        tk_without_stop_words.append(word)\n",
    "print(set(text_2_tokenized) - set(tk_without_stop_words))\n",
    "\n",
    "# shows the stop words that were removed"
   ]
  },
  {
   "cell_type": "code",
   "execution_count": 28,
   "id": "c4d50d5b",
   "metadata": {},
   "outputs": [
    {
     "name": "stdout",
     "output_type": "stream",
     "text": [
      "['Some', 'say', 'the', 'world', 'will', 'end', 'in', 'fire', ',', 'Some', 'say', 'in', 'ice', '.', 'From', 'what', 'I', '’', 've', 'tasted', 'of', 'desire', ',', 'I', 'hold', 'with', 'those', 'who', 'favor', 'fire', '.', 'But', 'if', 'it', 'had', 'to', 'perish', 'twice', ',', 'I', 'think', 'I', 'know', 'enough', 'of', 'hate', ',', 'To', 'know', 'that', 'for', 'destruction', 'ice', 'Is', 'also', 'great', ',', 'And', 'would', 'suffice', '.']\n"
     ]
    }
   ],
   "source": [
    "print(text_2_tokenized)"
   ]
  },
  {
   "cell_type": "code",
   "execution_count": 30,
   "id": "c9649ba8",
   "metadata": {},
   "outputs": [
    {
     "name": "stdout",
     "output_type": "stream",
     "text": [
      "['Some', 'say', 'world', 'end', 'fire', ',', 'Some', 'say', 'ice', '.', 'From', 'I', '’', 'tasted', 'desire', ',', 'I', 'hold', 'favor', 'fire', '.', 'But', 'perish', 'twice', ',', 'I', 'think', 'I', 'know', 'enough', 'hate', ',', 'To', 'know', 'destruction', 'ice', 'Is', 'also', 'great', ',', 'And', 'would', 'suffice', '.']\n"
     ]
    }
   ],
   "source": [
    "print(tk_without_stop_words)"
   ]
  },
  {
   "cell_type": "code",
   "execution_count": null,
   "id": "59236a77",
   "metadata": {},
   "outputs": [],
   "source": []
  }
 ],
 "metadata": {
  "kernelspec": {
   "display_name": "Python 3 (ipykernel)",
   "language": "python",
   "name": "python3"
  },
  "language_info": {
   "codemirror_mode": {
    "name": "ipython",
    "version": 3
   },
   "file_extension": ".py",
   "mimetype": "text/x-python",
   "name": "python",
   "nbconvert_exporter": "python",
   "pygments_lexer": "ipython3",
   "version": "3.9.12"
  }
 },
 "nbformat": 4,
 "nbformat_minor": 5
}
